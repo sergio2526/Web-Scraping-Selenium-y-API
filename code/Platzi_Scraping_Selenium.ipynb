{
  "nbformat": 4,
  "nbformat_minor": 0,
  "metadata": {
    "kernelspec": {
      "display_name": "Python 3",
      "language": "python",
      "name": "python3"
    },
    "language_info": {
      "codemirror_mode": {
        "name": "ipython",
        "version": 3
      },
      "file_extension": ".py",
      "mimetype": "text/x-python",
      "name": "python",
      "nbconvert_exporter": "python",
      "pygments_lexer": "ipython3",
      "version": "3.8.1"
    },
    "colab": {
      "name": "Platzi Scraping-Selenium.ipynb",
      "provenance": []
    }
  },
  "cells": [
    {
      "cell_type": "code",
      "metadata": {
        "id": "ssuyUCSU_uzI",
        "colab_type": "code",
        "colab": {}
      },
      "source": [
        "import requests\n",
        "import pandas as pd\n",
        "from bs4 import BeautifulSoup\n",
        "from selenium import webdriver"
      ],
      "execution_count": 0,
      "outputs": []
    },
    {
      "cell_type": "code",
      "metadata": {
        "id": "rWpnEzt4_uzO",
        "colab_type": "code",
        "colab": {}
      },
      "source": [
        "url = 'https://platzi.com/categorias/desarrollo/'"
      ],
      "execution_count": 0,
      "outputs": []
    },
    {
      "cell_type": "code",
      "metadata": {
        "id": "VsN24OlI_uzT",
        "colab_type": "code",
        "colab": {},
        "outputId": "ced8a86c-9717-4aad-c47a-67ddcdde04ac"
      },
      "source": [
        "r = requests.get(url)\n",
        "r.status_code"
      ],
      "execution_count": 0,
      "outputs": [
        {
          "output_type": "execute_result",
          "data": {
            "text/plain": [
              "200"
            ]
          },
          "metadata": {
            "tags": []
          },
          "execution_count": 476
        }
      ]
    },
    {
      "cell_type": "code",
      "metadata": {
        "id": "ZsYH6mcQ_uza",
        "colab_type": "code",
        "colab": {}
      },
      "source": [
        "s = BeautifulSoup(r.text, 'html.parser')"
      ],
      "execution_count": 0,
      "outputs": []
    },
    {
      "cell_type": "markdown",
      "metadata": {
        "id": "RTG7p1Dp_uze",
        "colab_type": "text"
      },
      "source": [
        "# Selenium"
      ]
    },
    {
      "cell_type": "markdown",
      "metadata": {
        "id": "aojf5Bx8_uzg",
        "colab_type": "text"
      },
      "source": [
        "Paso 1: Instanciar un driver del navegador"
      ]
    },
    {
      "cell_type": "code",
      "metadata": {
        "id": "-wJj2NkS_uzh",
        "colab_type": "code",
        "colab": {}
      },
      "source": [
        "options = webdriver.ChromeOptions()\n",
        "options.add_argument('private')\n",
        "driver = webdriver.Opera(executable_path='operadriver',options=options)"
      ],
      "execution_count": 0,
      "outputs": []
    },
    {
      "cell_type": "markdown",
      "metadata": {
        "id": "OYVkvgWi_uzq",
        "colab_type": "text"
      },
      "source": [
        "Paso 2: Hacer que el navegador cargue la pagina web"
      ]
    },
    {
      "cell_type": "code",
      "metadata": {
        "id": "oq7_4lJf_uzq",
        "colab_type": "code",
        "colab": {}
      },
      "source": [
        "driver.get(url)"
      ],
      "execution_count": 0,
      "outputs": []
    },
    {
      "cell_type": "markdown",
      "metadata": {
        "id": "BRTS4kXx_uz1",
        "colab_type": "text"
      },
      "source": [
        "Paso 3: Extraer la información de la página"
      ]
    },
    {
      "cell_type": "code",
      "metadata": {
        "id": "-jmJRgw-_uz2",
        "colab_type": "code",
        "colab": {}
      },
      "source": [
        "rutas = driver.find_elements_by_xpath('//div[@class=\"LearningPathsList-content\"]//a[@class=\"LearningPathItem\"]')"
      ],
      "execution_count": 0,
      "outputs": []
    },
    {
      "cell_type": "code",
      "metadata": {
        "id": "aiLgK032_uz7",
        "colab_type": "code",
        "colab": {}
      },
      "source": [
        "ruta = rutas[0]"
      ],
      "execution_count": 0,
      "outputs": []
    },
    {
      "cell_type": "code",
      "metadata": {
        "id": "2TUtSHun_uz_",
        "colab_type": "code",
        "colab": {}
      },
      "source": [
        "def obtener_ruta():\n",
        "    \n",
        "    rutas = driver.find_elements_by_xpath('//div[@class=\"LearningPathsList-container\"]//a')\n",
        "    carrera = []\n",
        "    for ruta in rutas:\n",
        "        rutas_aprendisaje = ruta.find_element_by_xpath('.//div[@class=\"LearningPathItem-elements\"]/h2[not(@data-reactid=\"data-reactid\")]').text\n",
        "        numero_cursos = ruta.find_element_by_xpath('.//div[@class=\"LearningPathItem-elements\"]/h4[not(@data-reactid=\"data-reactid\")]').text \n",
        "        dict_rutas = {\n",
        "            'Ruta de aprendisaje':rutas_aprendisaje,\n",
        "            'Numero de cursos':numero_cursos\n",
        "   \n",
        "            \n",
        "            }        \n",
        "        carrera.append(dict_rutas)\n",
        "       # print(dict_rutas)\n",
        "    df = pd.DataFrame(carrera, columns=['Ruta de aprendisaje', 'Numero de cursos'])\n",
        "    df\n",
        "    return df\n",
        "            \n",
        "        \n",
        "\n",
        "    \n",
        "    "
      ],
      "execution_count": 0,
      "outputs": []
    },
    {
      "cell_type": "code",
      "metadata": {
        "id": "17zrdVl1_u0C",
        "colab_type": "code",
        "colab": {}
      },
      "source": [
        "def obtener_url():\n",
        "            \n",
        "    urls = []\n",
        "    ruta_url = ruta.find_elements_by_xpath('//a[@class=\"LearningPathItem\"]')\n",
        "    ruta_url\n",
        "\n",
        "    for i in ruta_url:\n",
        "        dict_url = {\n",
        "        'Url':i.get_attribute('href')\n",
        "            \n",
        "        }\n",
        "        urls.append(dict_url)  \n",
        "    df = pd.DataFrame(urls, columns=['Url'])\n",
        "    df\n",
        "    return df\n",
        "\n"
      ],
      "execution_count": 0,
      "outputs": []
    },
    {
      "cell_type": "code",
      "metadata": {
        "id": "_ea14UFL_u0H",
        "colab_type": "code",
        "colab": {}
      },
      "source": [
        "#obtener_ruta()\n",
        "df = pd.concat([obtener_ruta(),obtener_url()],axis=1)\n",
        "df\n",
        "df.to_csv('route-learning.csv', encoding = 'utf8')\n",
        "\n"
      ],
      "execution_count": 0,
      "outputs": []
    },
    {
      "cell_type": "code",
      "metadata": {
        "scrolled": true,
        "id": "kgbgDvxG_u0M",
        "colab_type": "code",
        "colab": {}
      },
      "source": [
        "def obtener_teachers():\n",
        "    \n",
        "    teachers_name = []\n",
        "    teachers_description = []\n",
        "    teachers_twitter = []\n",
        "    name_teachers = ruta.find_elements_by_xpath('//div[@class=\"Teachers-name\"]//h2[not(@data-reactid=\"data-reactid\")]')\n",
        "    description_teachers = ruta.find_elements_by_xpath('//div[@class=\"Teachers-profile\"]//p')\n",
        "    twitter_teacher = ruta.find_elements_by_xpath('//a[@class=\"Teachers-link\"]')\n",
        "                    \n",
        "    for i in name_teachers:\n",
        "        dict_teachers_name = {            \n",
        "            'Name teacher':i.text        \n",
        "\n",
        "        }\n",
        "        teachers_name.append(dict_teachers_name)\n",
        "    df_name = pd.DataFrame(teachers_name, columns=['Name teacher'])\n",
        "        \n",
        "    for i in description_teachers:\n",
        "        dict_teachers_description = {\n",
        "            'Description teacher':i.text\n",
        "        }\n",
        "        \n",
        "        teachers_description.append(dict_teachers_description)\n",
        "    df_description = pd.DataFrame(teachers_description, columns=['Description teacher'])\n",
        "        \n",
        "    for i in twitter_teacher:\n",
        "        dict_teachers_twitter = {\n",
        "            \n",
        "            'Twitter teacher':i.get_attribute('href')\n",
        "        }\n",
        "        \n",
        "        teachers_twitter.append(dict_teachers_twitter)\n",
        "    df_twitter = pd.DataFrame(teachers_twitter, columns=['Twitter teacher'])\n",
        "    \n",
        "    df = pd.concat([df_name,df_description,df_twitter],axis=1)\n",
        "    \n",
        "    df.to_csv('teachers.csv', encoding = 'utf8')\n",
        "    \n",
        "    \n",
        "    return df"
      ],
      "execution_count": 0,
      "outputs": []
    },
    {
      "cell_type": "code",
      "metadata": {
        "scrolled": true,
        "id": "PtVnEv-Y_u0O",
        "colab_type": "code",
        "colab": {},
        "outputId": "87101d74-5384-4da0-e255-9b6d125bf81d"
      },
      "source": [
        "obtener_teachers()\n",
        "    \n",
        "    "
      ],
      "execution_count": 0,
      "outputs": [
        {
          "output_type": "execute_result",
          "data": {
            "text/html": [
              "<div>\n",
              "<style scoped>\n",
              "    .dataframe tbody tr th:only-of-type {\n",
              "        vertical-align: middle;\n",
              "    }\n",
              "\n",
              "    .dataframe tbody tr th {\n",
              "        vertical-align: top;\n",
              "    }\n",
              "\n",
              "    .dataframe thead th {\n",
              "        text-align: right;\n",
              "    }\n",
              "</style>\n",
              "<table border=\"1\" class=\"dataframe\">\n",
              "  <thead>\n",
              "    <tr style=\"text-align: right;\">\n",
              "      <th></th>\n",
              "      <th>Name teacher</th>\n",
              "      <th>Description teacher</th>\n",
              "      <th>Twitter teacher</th>\n",
              "    </tr>\n",
              "  </thead>\n",
              "  <tbody>\n",
              "    <tr>\n",
              "      <th>0</th>\n",
              "      <td>Carlos Sampol</td>\n",
              "      <td>Frontend Developer en Platzi</td>\n",
              "      <td>https://twitter.com/sampol18</td>\n",
              "    </tr>\n",
              "    <tr>\n",
              "      <th>1</th>\n",
              "      <td>Roberto González</td>\n",
              "      <td>CTO y fundador en Aerolab</td>\n",
              "      <td>https://twitter.com/robertcode</td>\n",
              "    </tr>\n",
              "    <tr>\n",
              "      <th>2</th>\n",
              "      <td>Hermes López</td>\n",
              "      <td>Cloud Manager en Rackspace</td>\n",
              "      <td>https://twitter.com/rackerhermes</td>\n",
              "    </tr>\n",
              "    <tr>\n",
              "      <th>3</th>\n",
              "      <td>Carlos Zambrano</td>\n",
              "      <td>Cloud Architect en Globant</td>\n",
              "      <td>https://twitter.com/czam01</td>\n",
              "    </tr>\n",
              "    <tr>\n",
              "      <th>4</th>\n",
              "      <td>Roberto González</td>\n",
              "      <td>CTO en Aerolab</td>\n",
              "      <td>https://twitter.com/pezster</td>\n",
              "    </tr>\n",
              "    <tr>\n",
              "      <th>5</th>\n",
              "      <td>Peter Pezaris</td>\n",
              "      <td>CEO en CodeStream</td>\n",
              "      <td>https://twitter.com/helblings</td>\n",
              "    </tr>\n",
              "    <tr>\n",
              "      <th>6</th>\n",
              "      <td>Sebastián Sosa</td>\n",
              "      <td>Co-founder en Caburé</td>\n",
              "      <td>https://twitter.com/iBar_Ed</td>\n",
              "    </tr>\n",
              "    <tr>\n",
              "      <th>7</th>\n",
              "      <td>Eduardo Ibarra</td>\n",
              "      <td>CEO en http://multitut.com/</td>\n",
              "      <td>https://twitter.com/julian_amaya</td>\n",
              "    </tr>\n",
              "    <tr>\n",
              "      <th>8</th>\n",
              "      <td>Julian Amaya</td>\n",
              "      <td>Cofounder en Monoku</td>\n",
              "      <td>NaN</td>\n",
              "    </tr>\n",
              "  </tbody>\n",
              "</table>\n",
              "</div>"
            ],
            "text/plain": [
              "       Name teacher           Description teacher  \\\n",
              "0     Carlos Sampol  Frontend Developer en Platzi   \n",
              "1  Roberto González     CTO y fundador en Aerolab   \n",
              "2      Hermes López    Cloud Manager en Rackspace   \n",
              "3   Carlos Zambrano    Cloud Architect en Globant   \n",
              "4  Roberto González                CTO en Aerolab   \n",
              "5     Peter Pezaris             CEO en CodeStream   \n",
              "6    Sebastián Sosa          Co-founder en Caburé   \n",
              "7    Eduardo Ibarra   CEO en http://multitut.com/   \n",
              "8      Julian Amaya           Cofounder en Monoku   \n",
              "\n",
              "                    Twitter teacher  \n",
              "0      https://twitter.com/sampol18  \n",
              "1    https://twitter.com/robertcode  \n",
              "2  https://twitter.com/rackerhermes  \n",
              "3        https://twitter.com/czam01  \n",
              "4       https://twitter.com/pezster  \n",
              "5     https://twitter.com/helblings  \n",
              "6       https://twitter.com/iBar_Ed  \n",
              "7  https://twitter.com/julian_amaya  \n",
              "8                               NaN  "
            ]
          },
          "metadata": {
            "tags": []
          },
          "execution_count": 620
        }
      ]
    },
    {
      "cell_type": "code",
      "metadata": {
        "id": "Hh_YJpBP_u0U",
        "colab_type": "code",
        "colab": {}
      },
      "source": [
        "\n",
        "def cursos_expert():\n",
        "    \n",
        "    cursos = []\n",
        "    url = []\n",
        "    cursos_expert = ruta.find_elements_by_xpath('//div[@class=\"row center-xs\"]//h5')\n",
        "    url_expert = ruta.find_elements_by_xpath('//a[@class=\"CareerCourseItem-link\"]')\n",
        "\n",
        "    for i in cursos_expert:\n",
        "        dict_cursos_expert ={\n",
        "            'Curso membresia expert':i.text     \n",
        "            \n",
        "        }\n",
        "        \n",
        "        cursos.append(dict_cursos_expert)\n",
        "    df_curso = pd.DataFrame(cursos, columns=['Curso membresia expert'])\n",
        "\n",
        "    url_expert = ruta.find_elements_by_xpath('//a[@class=\"CareerCourseItem-link\"]')\n",
        "\n",
        "    for i in url_expert:\n",
        "        dict_url_expert ={\n",
        "    \n",
        "        'Url curso':i.get_attribute('href')\n",
        "            \n",
        "        }\n",
        "\n",
        "        url.append(dict_url_expert)\n",
        "    df_url = pd.DataFrame(url, columns=['Url curso'])\n",
        "    \n",
        "    df = pd.concat([df_curso,df_url],axis=1)\n",
        "    \n",
        "    df.to_csv('courses-expert.csv', encoding = 'utf8')\n",
        "        \n",
        "      \n",
        "    return df\n",
        "\n",
        "        \n",
        "        \n"
      ],
      "execution_count": 0,
      "outputs": []
    },
    {
      "cell_type": "markdown",
      "metadata": {
        "id": "e0L2b5I__u0Y",
        "colab_type": "text"
      },
      "source": [
        "Paso 4: Cerrar el navegador"
      ]
    },
    {
      "cell_type": "code",
      "metadata": {
        "scrolled": false,
        "id": "SJU7N1IS_u0Y",
        "colab_type": "code",
        "colab": {},
        "outputId": "bf340627-c103-4173-cafa-b381f02273aa"
      },
      "source": [
        "cursos_expert()"
      ],
      "execution_count": 0,
      "outputs": [
        {
          "output_type": "execute_result",
          "data": {
            "text/html": [
              "<div>\n",
              "<style scoped>\n",
              "    .dataframe tbody tr th:only-of-type {\n",
              "        vertical-align: middle;\n",
              "    }\n",
              "\n",
              "    .dataframe tbody tr th {\n",
              "        vertical-align: top;\n",
              "    }\n",
              "\n",
              "    .dataframe thead th {\n",
              "        text-align: right;\n",
              "    }\n",
              "</style>\n",
              "<table border=\"1\" class=\"dataframe\">\n",
              "  <thead>\n",
              "    <tr style=\"text-align: right;\">\n",
              "      <th></th>\n",
              "      <th>Curso membresia expert</th>\n",
              "      <th>Url curso</th>\n",
              "    </tr>\n",
              "  </thead>\n",
              "  <tbody>\n",
              "    <tr>\n",
              "      <th>0</th>\n",
              "      <td>Taller de creación de Startups</td>\n",
              "      <td>https://platzi.com/cursos/taller-startups/</td>\n",
              "    </tr>\n",
              "    <tr>\n",
              "      <th>1</th>\n",
              "      <td>Introducción a la Creación de Empresas y Startups</td>\n",
              "      <td>https://platzi.com/cursos/creacion-de-empresas/</td>\n",
              "    </tr>\n",
              "    <tr>\n",
              "      <th>2</th>\n",
              "      <td>Curso de Inglés Técnico para Profesionales</td>\n",
              "      <td>https://platzi.com/cursos/ingles/</td>\n",
              "    </tr>\n",
              "    <tr>\n",
              "      <th>3</th>\n",
              "      <td>Curso de Gestión Financiera para Startups - 2017</td>\n",
              "      <td>https://platzi.com/cursos/financiera-startups-...</td>\n",
              "    </tr>\n",
              "    <tr>\n",
              "      <th>4</th>\n",
              "      <td>Cómo Conseguir Trabajo en Programación</td>\n",
              "      <td>https://platzi.com/cursos/developer/</td>\n",
              "    </tr>\n",
              "    <tr>\n",
              "      <th>5</th>\n",
              "      <td>Curso de Internacionalización para Startups</td>\n",
              "      <td>https://platzi.com/cursos/internacionalizacion...</td>\n",
              "    </tr>\n",
              "    <tr>\n",
              "      <th>6</th>\n",
              "      <td>Curso de Inglés Básico para Principiantes</td>\n",
              "      <td>https://platzi.com/cursos/ingles-basico/</td>\n",
              "    </tr>\n",
              "    <tr>\n",
              "      <th>7</th>\n",
              "      <td>Curso de Inglés Básico: Gramática</td>\n",
              "      <td>https://platzi.com/cursos/ingles-gramatica/</td>\n",
              "    </tr>\n",
              "    <tr>\n",
              "      <th>8</th>\n",
              "      <td>Curso de Inglés Básico: Conversación</td>\n",
              "      <td>https://platzi.com/cursos/ingles-conversacion/</td>\n",
              "    </tr>\n",
              "  </tbody>\n",
              "</table>\n",
              "</div>"
            ],
            "text/plain": [
              "                              Curso membresia expert  \\\n",
              "0                     Taller de creación de Startups   \n",
              "1  Introducción a la Creación de Empresas y Startups   \n",
              "2         Curso de Inglés Técnico para Profesionales   \n",
              "3   Curso de Gestión Financiera para Startups - 2017   \n",
              "4             Cómo Conseguir Trabajo en Programación   \n",
              "5        Curso de Internacionalización para Startups   \n",
              "6          Curso de Inglés Básico para Principiantes   \n",
              "7                  Curso de Inglés Básico: Gramática   \n",
              "8               Curso de Inglés Básico: Conversación   \n",
              "\n",
              "                                           Url curso  \n",
              "0         https://platzi.com/cursos/taller-startups/  \n",
              "1    https://platzi.com/cursos/creacion-de-empresas/  \n",
              "2                  https://platzi.com/cursos/ingles/  \n",
              "3  https://platzi.com/cursos/financiera-startups-...  \n",
              "4               https://platzi.com/cursos/developer/  \n",
              "5  https://platzi.com/cursos/internacionalizacion...  \n",
              "6           https://platzi.com/cursos/ingles-basico/  \n",
              "7        https://platzi.com/cursos/ingles-gramatica/  \n",
              "8     https://platzi.com/cursos/ingles-conversacion/  "
            ]
          },
          "metadata": {
            "tags": []
          },
          "execution_count": 618
        }
      ]
    },
    {
      "cell_type": "markdown",
      "metadata": {
        "id": "Tyh1CL7u_u0b",
        "colab_type": "text"
      },
      "source": [
        "cerrando la sesión del navegdor"
      ]
    },
    {
      "cell_type": "code",
      "metadata": {
        "id": "vgHAYDT0_u0c",
        "colab_type": "code",
        "colab": {}
      },
      "source": [
        "driver.close()"
      ],
      "execution_count": 0,
      "outputs": []
    }
  ]
}